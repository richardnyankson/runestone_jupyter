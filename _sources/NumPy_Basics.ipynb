{
  "nbformat": 4,
  "nbformat_minor": 0,
  "metadata": {
    "colab": {
      "name": "NumPy_Basics.ipynb",
      "provenance": []
    },
    "kernelspec": {
      "name": "python3",
      "display_name": "Python 3"
    },
    "language_info": {
      "name": "python"
    }
  },
  "cells": [
    {
      "cell_type": "markdown",
      "source": [
        "This is a wonderful explanation of what I'm doing with this code."
      ],
      "metadata": {
        "id": "j1AD2qS-Ee3S"
      }
    },
    {
      "cell_type": "code",
      "execution_count": null,
      "metadata": {
        "colab": {
          "base_uri": "https://localhost:8080/"
        },
        "id": "IEAiC9NND3dJ",
        "outputId": "8bf7d667-2c76-4b19-f60c-213c6b333a86"
      },
      "outputs": [
        {
          "output_type": "stream",
          "name": "stdout",
          "text": [
            "Hello world!\n",
            "I'm not ready yet\n",
            "Now!\n"
          ]
        }
      ],
      "source": [
        "print(\"Hello world!\")\n",
        "print(\"I'm not ready yet\")\n",
        "print(\"Now!\")"
      ]
    },
    {
      "cell_type": "markdown",
      "source": [
        "Importing NumPy, commonly named \"np\" for short."
      ],
      "metadata": {
        "id": "ynHSk51DE6pl"
      }
    },
    {
      "cell_type": "code",
      "source": [
        "import numpy as np"
      ],
      "metadata": {
        "id": "6svsF41BEZS1"
      },
      "execution_count": null,
      "outputs": []
    },
    {
      "cell_type": "markdown",
      "source": [
        "Creating an array, accessing entries by index, slicing."
      ],
      "metadata": {
        "id": "3aUhLMVcFakZ"
      }
    },
    {
      "cell_type": "code",
      "source": [
        "my_array = np.array([1,2,3,4,5])\n",
        "\n",
        "print(my_array)\n",
        "print(my_array[0])\n",
        "print(my_array[1:5])\n",
        "print(type(my_array))"
      ],
      "metadata": {
        "colab": {
          "base_uri": "https://localhost:8080/"
        },
        "id": "m21LuTnSFAqd",
        "outputId": "c5fb5d08-8bf3-4971-f8f6-c9962dd0eb59"
      },
      "execution_count": null,
      "outputs": [
        {
          "output_type": "stream",
          "name": "stdout",
          "text": [
            "[1 2 3 4 5]\n",
            "1\n",
            "[2 3 4 5]\n",
            "<class 'numpy.ndarray'>\n"
          ]
        }
      ]
    },
    {
      "cell_type": "markdown",
      "source": [
        "Two dimensional arrays"
      ],
      "metadata": {
        "id": "SQ24tpUnFe8a"
      }
    },
    {
      "cell_type": "code",
      "source": [
        "mat = np.array([[1,2,3,4,5],[6,7,8,9,10]])\n",
        "\n",
        "print(mat[0,1])\n",
        "print(mat)\n",
        "print(mat[1,-1])"
      ],
      "metadata": {
        "colab": {
          "base_uri": "https://localhost:8080/"
        },
        "id": "6x1ZBYSzFPkw",
        "outputId": "06f377dd-510f-478f-8929-4300b65c4790"
      },
      "execution_count": null,
      "outputs": [
        {
          "output_type": "stream",
          "name": "stdout",
          "text": [
            "2\n",
            "[[ 1  2  3  4  5]\n",
            " [ 6  7  8  9 10]]\n",
            "10\n"
          ]
        }
      ]
    },
    {
      "cell_type": "markdown",
      "source": [
        "Types for numpy arrays\n",
        "\n",
        "'i' integer\n",
        "'b' boolean\n",
        "'f' float\n",
        "'O' object\n",
        "'s' string"
      ],
      "metadata": {
        "id": "IESQQJQGG2zD"
      }
    },
    {
      "cell_type": "code",
      "source": [
        "print(my_array.dtype)\n",
        "\n",
        "float_array = np.array([2.6, 34.5, 1.0])\n",
        "print(float_array.dtype)\n",
        "\n",
        "new_array = my_array.astype('f')\n",
        "print(new_array)\n",
        "print(new_array.dtype)"
      ],
      "metadata": {
        "colab": {
          "base_uri": "https://localhost:8080/"
        },
        "id": "bRpUjpm2Fzzo",
        "outputId": "b1fa5023-0896-411b-d69e-7b7358d4e829"
      },
      "execution_count": null,
      "outputs": [
        {
          "output_type": "stream",
          "name": "stdout",
          "text": [
            "int64\n",
            "float64\n",
            "[1. 2. 3. 4. 5.]\n",
            "float32\n"
          ]
        }
      ]
    },
    {
      "cell_type": "markdown",
      "source": [
        "Copies and views"
      ],
      "metadata": {
        "id": "mdaaqpDpHnb1"
      }
    },
    {
      "cell_type": "code",
      "source": [
        "copy_array = my_array.copy()    # deep copy, clone\n",
        "\n",
        "copy_array[0] = 42\n",
        "print(my_array)\n",
        "print(copy_array)"
      ],
      "metadata": {
        "colab": {
          "base_uri": "https://localhost:8080/"
        },
        "id": "mNPuwRFLGXI7",
        "outputId": "fcef8a07-c42a-4171-d12c-cace4abd6725"
      },
      "execution_count": null,
      "outputs": [
        {
          "output_type": "stream",
          "name": "stdout",
          "text": [
            "[1 2 3 4 5]\n",
            "[42  2  3  4  5]\n"
          ]
        }
      ]
    },
    {
      "cell_type": "code",
      "source": [
        "view_array = my_array.view()    # shallow copy, alias, view\n",
        "\n",
        "view_array[0] = 42\n",
        "print(my_array)\n",
        "print(view_array)"
      ],
      "metadata": {
        "colab": {
          "base_uri": "https://localhost:8080/"
        },
        "id": "bqA-lZd0HRMV",
        "outputId": "5ce8d680-5e89-4dd8-edec-fb8764741d08"
      },
      "execution_count": null,
      "outputs": [
        {
          "output_type": "stream",
          "name": "stdout",
          "text": [
            "[42  2  3  4  5]\n",
            "[42  2  3  4  5]\n"
          ]
        }
      ]
    },
    {
      "cell_type": "code",
      "source": [
        "print(my_array.shape)\n",
        "\n",
        "print(mat.shape)"
      ],
      "metadata": {
        "colab": {
          "base_uri": "https://localhost:8080/"
        },
        "id": "HBu1f2lhHkTe",
        "outputId": "1d46ebb9-9b67-47c3-c70e-89bec54ddbc4"
      },
      "execution_count": null,
      "outputs": [
        {
          "output_type": "stream",
          "name": "stdout",
          "text": [
            "(5,)\n",
            "(2, 5)\n"
          ]
        }
      ]
    },
    {
      "cell_type": "markdown",
      "source": [
        "reshaping an array"
      ],
      "metadata": {
        "id": "xKS6x89KIlMF"
      }
    },
    {
      "cell_type": "code",
      "source": [
        "one_dim_array = np.array([1,2,3,4,5,6,7,8,9,10])\n",
        "two_dim_array = one_dim_array.reshape((5,2))\n",
        "\n",
        "print(one_dim_array)\n",
        "print(two_dim_array)"
      ],
      "metadata": {
        "colab": {
          "base_uri": "https://localhost:8080/"
        },
        "id": "jsWMAkfVHxgQ",
        "outputId": "068bb0a7-52b2-49a7-b421-ba6f2e45e6bf"
      },
      "execution_count": null,
      "outputs": [
        {
          "output_type": "stream",
          "name": "stdout",
          "text": [
            "[ 1  2  3  4  5  6  7  8  9 10]\n",
            "[[ 1  2]\n",
            " [ 3  4]\n",
            " [ 5  6]\n",
            " [ 7  8]\n",
            " [ 9 10]]\n"
          ]
        }
      ]
    },
    {
      "cell_type": "markdown",
      "source": [
        "When you reshape, number of entries needs to match up!"
      ],
      "metadata": {
        "id": "fhcjPHHOInUJ"
      }
    },
    {
      "cell_type": "code",
      "source": [
        "other_2d_array = one_dim_array.reshape((3,3))"
      ],
      "metadata": {
        "colab": {
          "base_uri": "https://localhost:8080/",
          "height": 167
        },
        "id": "MHA0QeLVINBH",
        "outputId": "b1542fc4-5a24-45a7-ef16-7064bb21c1f8"
      },
      "execution_count": null,
      "outputs": [
        {
          "output_type": "error",
          "ename": "ValueError",
          "evalue": "ignored",
          "traceback": [
            "\u001b[0;31m---------------------------------------------------------------------------\u001b[0m",
            "\u001b[0;31mValueError\u001b[0m                                Traceback (most recent call last)",
            "\u001b[0;32m<ipython-input-18-f6062dd697a3>\u001b[0m in \u001b[0;36m<module>\u001b[0;34m()\u001b[0m\n\u001b[0;32m----> 1\u001b[0;31m \u001b[0mother_2d_array\u001b[0m \u001b[0;34m=\u001b[0m \u001b[0mone_dim_array\u001b[0m\u001b[0;34m.\u001b[0m\u001b[0mreshape\u001b[0m\u001b[0;34m(\u001b[0m\u001b[0;34m(\u001b[0m\u001b[0;36m3\u001b[0m\u001b[0;34m,\u001b[0m\u001b[0;36m3\u001b[0m\u001b[0;34m)\u001b[0m\u001b[0;34m)\u001b[0m\u001b[0;34m\u001b[0m\u001b[0;34m\u001b[0m\u001b[0m\n\u001b[0m",
            "\u001b[0;31mValueError\u001b[0m: cannot reshape array of size 10 into shape (3,3)"
          ]
        }
      ]
    },
    {
      "cell_type": "markdown",
      "source": [
        "Create a view, reshape the view"
      ],
      "metadata": {
        "id": "wx6yd-snJSbe"
      }
    },
    {
      "cell_type": "code",
      "source": [
        "one_dim_array = np.array([1,2,3,4,5,6,7,8,9,10])\n",
        "reshaped = one_dim_array.view().reshape((5,2))\n",
        "\n",
        "print(one_dim_array)\n",
        "print(reshaped)\n",
        "print(one_dim_array.shape)\n",
        "print(reshaped.shape)"
      ],
      "metadata": {
        "colab": {
          "base_uri": "https://localhost:8080/"
        },
        "id": "uLB9CpR1IhWb",
        "outputId": "8144e0a4-59fc-498a-a6b0-2c2b0a98830b"
      },
      "execution_count": null,
      "outputs": [
        {
          "output_type": "stream",
          "name": "stdout",
          "text": [
            "[ 1  2  3  4  5  6  7  8  9 10]\n",
            "[[ 1  2]\n",
            " [ 3  4]\n",
            " [ 5  6]\n",
            " [ 7  8]\n",
            " [ 9 10]]\n",
            "(10,)\n",
            "(5, 2)\n"
          ]
        }
      ]
    },
    {
      "cell_type": "markdown",
      "source": [
        "Iterating through an array"
      ],
      "metadata": {
        "id": "-tGPvvYIJiKW"
      }
    },
    {
      "cell_type": "code",
      "source": [
        "for x in my_array:\n",
        "  print(x)"
      ],
      "metadata": {
        "colab": {
          "base_uri": "https://localhost:8080/"
        },
        "id": "XA8fQhxxI7iI",
        "outputId": "3237a4de-3397-4c47-cb20-b76b1dcd54ad"
      },
      "execution_count": null,
      "outputs": [
        {
          "output_type": "stream",
          "name": "stdout",
          "text": [
            "42\n",
            "2\n",
            "3\n",
            "4\n",
            "5\n"
          ]
        }
      ]
    },
    {
      "cell_type": "markdown",
      "source": [
        "Concatenating arrays"
      ],
      "metadata": {
        "id": "wPQhO91BJ5D1"
      }
    },
    {
      "cell_type": "code",
      "source": [
        "arr1 = np.array([1,2,3])\n",
        "arr2 = np.array([4,5,6])\n",
        "\n",
        "combined = np.concatenate((arr1, arr2))\n",
        "print(arr1)\n",
        "print(arr2)\n",
        "print(combined)"
      ],
      "metadata": {
        "colab": {
          "base_uri": "https://localhost:8080/"
        },
        "id": "1xMDwFLlJZbD",
        "outputId": "3ea6ab55-78ab-49b2-a173-7c8e1941ecc5"
      },
      "execution_count": null,
      "outputs": [
        {
          "output_type": "stream",
          "name": "stdout",
          "text": [
            "[1 2 3]\n",
            "[4 5 6]\n",
            "[1 2 3 4 5 6]\n"
          ]
        }
      ]
    },
    {
      "cell_type": "code",
      "source": [
        "arr1 = np.array([1,2,3,4,5,6])\n",
        "arr1 = arr1.reshape((2,3))\n",
        "arr2 = np.array([7,8,9,10,11,12])\n",
        "arr2 = arr2.reshape((2,3))\n",
        "\n",
        "combined = np.concatenate((arr1, arr2))   # need number of columns to match\n",
        "print(arr1)\n",
        "print(arr2)\n",
        "print(combined)\n",
        "\n",
        "other_combined = np.concatenate((arr1, arr2), axis=1)   #need to have the same number of rows\n",
        "print(other_combined)"
      ],
      "metadata": {
        "colab": {
          "base_uri": "https://localhost:8080/"
        },
        "id": "fYcaRueUJxsq",
        "outputId": "1e75b2a5-b503-42b1-ab09-5d418402941b"
      },
      "execution_count": null,
      "outputs": [
        {
          "output_type": "stream",
          "name": "stdout",
          "text": [
            "[[1 2 3]\n",
            " [4 5 6]]\n",
            "[[ 7  8  9]\n",
            " [10 11 12]]\n",
            "[[ 1  2  3]\n",
            " [ 4  5  6]\n",
            " [ 7  8  9]\n",
            " [10 11 12]]\n",
            "[[ 1  2  3  7  8  9]\n",
            " [ 4  5  6 10 11 12]]\n"
          ]
        }
      ]
    },
    {
      "cell_type": "code",
      "source": [
        "arr1 = np.array([1,2,3,4,5,6])\n",
        "arr2 = np.array([7,8,9,10,11,12])\n",
        "\n",
        "concatenated = np.concatenate((arr1, arr2))\n",
        "stacked = np.stack((arr1, arr2))\n",
        "\n",
        "print(concatenated)\n",
        "print(stacked)"
      ],
      "metadata": {
        "colab": {
          "base_uri": "https://localhost:8080/"
        },
        "id": "XU_2b8B5KMpZ",
        "outputId": "f34ed6e0-dc94-40f9-8330-6126d8a4183d"
      },
      "execution_count": null,
      "outputs": [
        {
          "output_type": "stream",
          "name": "stdout",
          "text": [
            "[ 1  2  3  4  5  6  7  8  9 10 11 12]\n",
            "[[ 1  2  3  4  5  6]\n",
            " [ 7  8  9 10 11 12]]\n"
          ]
        }
      ]
    },
    {
      "cell_type": "code",
      "source": [
        "my_array = np.array([1,6,8,4,0,5,4,0,0,2,0])\n",
        "\n",
        "x = np.where(my_array == 0)\n",
        "\n",
        "print(x)"
      ],
      "metadata": {
        "colab": {
          "base_uri": "https://localhost:8080/"
        },
        "id": "05ZUnQ8RLFzs",
        "outputId": "6e2872de-9bd7-482e-cd6a-dd5ac99e181a"
      },
      "execution_count": null,
      "outputs": [
        {
          "output_type": "stream",
          "name": "stdout",
          "text": [
            "(array([ 4,  7,  8, 10]),)\n"
          ]
        }
      ]
    },
    {
      "cell_type": "code",
      "source": [
        "sorted = np.sort(my_array)\n",
        "print(sorted)"
      ],
      "metadata": {
        "colab": {
          "base_uri": "https://localhost:8080/"
        },
        "id": "E5p7IsnRLhU6",
        "outputId": "130260ec-a835-4c29-814e-5897725a4e83"
      },
      "execution_count": null,
      "outputs": [
        {
          "output_type": "stream",
          "name": "stdout",
          "text": [
            "[0 0 0 0 1 2 4 4 5 6 8]\n"
          ]
        }
      ]
    },
    {
      "cell_type": "code",
      "source": [
        "my_array = np.array([1,6,8,4,0,5,4,0,0,2,0])\n",
        "\n",
        "filter = [True, False, False, True, True, False, False, True, True, True, False]\n",
        "\n",
        "filtered_array = my_array[filter]\n",
        "\n",
        "print(filtered_array)"
      ],
      "metadata": {
        "colab": {
          "base_uri": "https://localhost:8080/"
        },
        "id": "awxXTvHBLsCz",
        "outputId": "6c25b866-a2dc-4737-bec3-bd82fecda511"
      },
      "execution_count": null,
      "outputs": [
        {
          "output_type": "stream",
          "name": "stdout",
          "text": [
            "[1 4 0 0 0 2]\n"
          ]
        }
      ]
    },
    {
      "cell_type": "code",
      "source": [
        "\"\""
      ],
      "metadata": {
        "id": "-devFKJ9MFd-"
      },
      "execution_count": null,
      "outputs": []
    }
  ]
}